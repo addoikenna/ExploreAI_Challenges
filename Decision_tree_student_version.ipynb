{
  "cells": [
    {
      "cell_type": "markdown",
      "metadata": {
        "id": "view-in-github",
        "colab_type": "text"
      },
      "source": [
        "<a href=\"https://colab.research.google.com/github/addoikenna/ExploreAI_Challenges/blob/main/Decision_tree_student_version.ipynb\" target=\"_parent\"><img src=\"https://colab.research.google.com/assets/colab-badge.svg\" alt=\"Open In Colab\"/></a>"
      ]
    },
    {
      "cell_type": "markdown",
      "id": "047f9f94",
      "metadata": {
        "id": "047f9f94"
      },
      "source": [
        "<div align=\"center\" style=\" font-size: 80%; text-align: center; margin: 0 auto\">\n",
        "<img src=\"https://raw.githubusercontent.com/Explore-AI/Pictures/master/Python-Notebook-Banners/Code_challenge.png\"  style=\"display: block; margin-left: auto; margin-right: auto;\";/>\n",
        "</div>"
      ]
    },
    {
      "cell_type": "markdown",
      "id": "f662d169",
      "metadata": {
        "id": "f662d169"
      },
      "source": [
        "# Code challenge: Decision trees\n",
        "© ExploreAI Academy"
      ]
    },
    {
      "cell_type": "markdown",
      "id": "26af890c",
      "metadata": {
        "id": "26af890c"
      },
      "source": [
        "In this code challenge, we will test our knowledge of the fundamental concepts of decision trees by implementing a decision tree regression model and analysing its RMSLE.\n",
        "\n"
      ]
    },
    {
      "cell_type": "markdown",
      "id": "3e3b5c1e",
      "metadata": {
        "id": "3e3b5c1e"
      },
      "source": [
        "⚠️ **Note that this code challenge is graded and will contribute to your overall marks for this module. Submit this notebook for grading. Note that the names of the functions are different in this notebook. Transfer the code in your notebook to this submission notebook**\n",
        "\n",
        "### Instructions\n",
        "\n",
        "- **Do not add or remove cells in this notebook. Do not edit or remove the `### START FUNCTION` or `### END FUNCTION` comments. Do not add any code outside of the functions you are required to edit. Doing any of this will lead to a mark of 0%!**\n",
        "\n",
        "- Answer the questions according to the specifications provided.\n",
        "\n",
        "- Use the given cell in each question to see if your function matches the expected outputs.\n",
        "\n",
        "- Do not hard-code answers to the questions.\n",
        "\n",
        "- The use of StackOverflow, Google, and other online tools is permitted. However, copying a fellow student's code is not permissible and is considered a breach of the Honour code. Doing this will result in a mark of 0%."
      ]
    },
    {
      "cell_type": "markdown",
      "id": "a275af89",
      "metadata": {
        "id": "a275af89"
      },
      "source": [
        "We begin by importing the necessary packages for the challenges."
      ]
    },
    {
      "cell_type": "code",
      "execution_count": 1,
      "id": "7918a99c",
      "metadata": {
        "id": "7918a99c"
      },
      "outputs": [],
      "source": [
        "import numpy as np\n",
        "import pandas as pd\n",
        "from sklearn.tree import DecisionTreeRegressor"
      ]
    },
    {
      "cell_type": "markdown",
      "id": "022dbac7",
      "metadata": {
        "id": "022dbac7"
      },
      "source": [
        "## The dataset\n",
        "\n",
        "The dataset contains population data for various countries over the years from 1960 to 2017. Each row corresponds to a specific country, identified by a country code, and each column represents a year. The values within the dataset represent the population count for each country in the corresponding year."
      ]
    },
    {
      "cell_type": "code",
      "execution_count": 2,
      "id": "9c17898c",
      "metadata": {
        "colab": {
          "base_uri": "https://localhost:8080/",
          "height": 304
        },
        "id": "9c17898c",
        "outputId": "a89f374f-579c-4f76-c5a5-3d881ca66a6f"
      },
      "outputs": [
        {
          "output_type": "execute_result",
          "data": {
            "text/plain": [
              "                   1960       1961       1962       1963       1964  \\\n",
              "Country Code                                                          \n",
              "ABW             54211.0    55438.0    56225.0    56695.0    57032.0   \n",
              "AFG           8996351.0  9166764.0  9345868.0  9533954.0  9731361.0   \n",
              "AGO           5643182.0  5753024.0  5866061.0  5980417.0  6093321.0   \n",
              "ALB           1608800.0  1659800.0  1711319.0  1762621.0  1814135.0   \n",
              "AND             13411.0    14375.0    15370.0    16412.0    17469.0   \n",
              "\n",
              "                   1965        1966        1967        1968        1969  ...  \\\n",
              "Country Code                                                             ...   \n",
              "ABW             57360.0     57715.0     58055.0     58386.0     58726.0  ...   \n",
              "AFG           9938414.0  10152331.0  10372630.0  10604346.0  10854428.0  ...   \n",
              "AGO           6203299.0   6309770.0   6414995.0   6523791.0   6642632.0  ...   \n",
              "ALB           1864791.0   1914573.0   1965598.0   2022272.0   2081695.0  ...   \n",
              "AND             18549.0     19647.0     20758.0     21890.0     23058.0  ...   \n",
              "\n",
              "                    2008        2009        2010        2011        2012  \\\n",
              "Country Code                                                               \n",
              "ABW             101353.0    101453.0    101669.0    102053.0    102577.0   \n",
              "AFG           27294031.0  28004331.0  28803167.0  29708599.0  30696958.0   \n",
              "AGO           21759420.0  22549547.0  23369131.0  24218565.0  25096150.0   \n",
              "ALB            2947314.0   2927519.0   2913021.0   2905195.0   2900401.0   \n",
              "AND              83861.0     84462.0     84449.0     83751.0     82431.0   \n",
              "\n",
              "                    2013        2014        2015        2016        2017  \n",
              "Country Code                                                              \n",
              "ABW             103187.0    103795.0    104341.0    104822.0    105264.0  \n",
              "AFG           31731688.0  32758020.0  33736494.0  34656032.0  35530081.0  \n",
              "AGO           25998340.0  26920466.0  27859305.0  28813463.0  29784193.0  \n",
              "ALB            2895092.0   2889104.0   2880703.0   2876101.0   2873457.0  \n",
              "AND              80788.0     79223.0     78014.0     77281.0     76965.0  \n",
              "\n",
              "[5 rows x 58 columns]"
            ],
            "text/html": [
              "\n",
              "  <div id=\"df-3bcab070-4d08-42bb-8f4d-5e7246e9e4ca\" class=\"colab-df-container\">\n",
              "    <div>\n",
              "<style scoped>\n",
              "    .dataframe tbody tr th:only-of-type {\n",
              "        vertical-align: middle;\n",
              "    }\n",
              "\n",
              "    .dataframe tbody tr th {\n",
              "        vertical-align: top;\n",
              "    }\n",
              "\n",
              "    .dataframe thead th {\n",
              "        text-align: right;\n",
              "    }\n",
              "</style>\n",
              "<table border=\"1\" class=\"dataframe\">\n",
              "  <thead>\n",
              "    <tr style=\"text-align: right;\">\n",
              "      <th></th>\n",
              "      <th>1960</th>\n",
              "      <th>1961</th>\n",
              "      <th>1962</th>\n",
              "      <th>1963</th>\n",
              "      <th>1964</th>\n",
              "      <th>1965</th>\n",
              "      <th>1966</th>\n",
              "      <th>1967</th>\n",
              "      <th>1968</th>\n",
              "      <th>1969</th>\n",
              "      <th>...</th>\n",
              "      <th>2008</th>\n",
              "      <th>2009</th>\n",
              "      <th>2010</th>\n",
              "      <th>2011</th>\n",
              "      <th>2012</th>\n",
              "      <th>2013</th>\n",
              "      <th>2014</th>\n",
              "      <th>2015</th>\n",
              "      <th>2016</th>\n",
              "      <th>2017</th>\n",
              "    </tr>\n",
              "    <tr>\n",
              "      <th>Country Code</th>\n",
              "      <th></th>\n",
              "      <th></th>\n",
              "      <th></th>\n",
              "      <th></th>\n",
              "      <th></th>\n",
              "      <th></th>\n",
              "      <th></th>\n",
              "      <th></th>\n",
              "      <th></th>\n",
              "      <th></th>\n",
              "      <th></th>\n",
              "      <th></th>\n",
              "      <th></th>\n",
              "      <th></th>\n",
              "      <th></th>\n",
              "      <th></th>\n",
              "      <th></th>\n",
              "      <th></th>\n",
              "      <th></th>\n",
              "      <th></th>\n",
              "      <th></th>\n",
              "    </tr>\n",
              "  </thead>\n",
              "  <tbody>\n",
              "    <tr>\n",
              "      <th>ABW</th>\n",
              "      <td>54211.0</td>\n",
              "      <td>55438.0</td>\n",
              "      <td>56225.0</td>\n",
              "      <td>56695.0</td>\n",
              "      <td>57032.0</td>\n",
              "      <td>57360.0</td>\n",
              "      <td>57715.0</td>\n",
              "      <td>58055.0</td>\n",
              "      <td>58386.0</td>\n",
              "      <td>58726.0</td>\n",
              "      <td>...</td>\n",
              "      <td>101353.0</td>\n",
              "      <td>101453.0</td>\n",
              "      <td>101669.0</td>\n",
              "      <td>102053.0</td>\n",
              "      <td>102577.0</td>\n",
              "      <td>103187.0</td>\n",
              "      <td>103795.0</td>\n",
              "      <td>104341.0</td>\n",
              "      <td>104822.0</td>\n",
              "      <td>105264.0</td>\n",
              "    </tr>\n",
              "    <tr>\n",
              "      <th>AFG</th>\n",
              "      <td>8996351.0</td>\n",
              "      <td>9166764.0</td>\n",
              "      <td>9345868.0</td>\n",
              "      <td>9533954.0</td>\n",
              "      <td>9731361.0</td>\n",
              "      <td>9938414.0</td>\n",
              "      <td>10152331.0</td>\n",
              "      <td>10372630.0</td>\n",
              "      <td>10604346.0</td>\n",
              "      <td>10854428.0</td>\n",
              "      <td>...</td>\n",
              "      <td>27294031.0</td>\n",
              "      <td>28004331.0</td>\n",
              "      <td>28803167.0</td>\n",
              "      <td>29708599.0</td>\n",
              "      <td>30696958.0</td>\n",
              "      <td>31731688.0</td>\n",
              "      <td>32758020.0</td>\n",
              "      <td>33736494.0</td>\n",
              "      <td>34656032.0</td>\n",
              "      <td>35530081.0</td>\n",
              "    </tr>\n",
              "    <tr>\n",
              "      <th>AGO</th>\n",
              "      <td>5643182.0</td>\n",
              "      <td>5753024.0</td>\n",
              "      <td>5866061.0</td>\n",
              "      <td>5980417.0</td>\n",
              "      <td>6093321.0</td>\n",
              "      <td>6203299.0</td>\n",
              "      <td>6309770.0</td>\n",
              "      <td>6414995.0</td>\n",
              "      <td>6523791.0</td>\n",
              "      <td>6642632.0</td>\n",
              "      <td>...</td>\n",
              "      <td>21759420.0</td>\n",
              "      <td>22549547.0</td>\n",
              "      <td>23369131.0</td>\n",
              "      <td>24218565.0</td>\n",
              "      <td>25096150.0</td>\n",
              "      <td>25998340.0</td>\n",
              "      <td>26920466.0</td>\n",
              "      <td>27859305.0</td>\n",
              "      <td>28813463.0</td>\n",
              "      <td>29784193.0</td>\n",
              "    </tr>\n",
              "    <tr>\n",
              "      <th>ALB</th>\n",
              "      <td>1608800.0</td>\n",
              "      <td>1659800.0</td>\n",
              "      <td>1711319.0</td>\n",
              "      <td>1762621.0</td>\n",
              "      <td>1814135.0</td>\n",
              "      <td>1864791.0</td>\n",
              "      <td>1914573.0</td>\n",
              "      <td>1965598.0</td>\n",
              "      <td>2022272.0</td>\n",
              "      <td>2081695.0</td>\n",
              "      <td>...</td>\n",
              "      <td>2947314.0</td>\n",
              "      <td>2927519.0</td>\n",
              "      <td>2913021.0</td>\n",
              "      <td>2905195.0</td>\n",
              "      <td>2900401.0</td>\n",
              "      <td>2895092.0</td>\n",
              "      <td>2889104.0</td>\n",
              "      <td>2880703.0</td>\n",
              "      <td>2876101.0</td>\n",
              "      <td>2873457.0</td>\n",
              "    </tr>\n",
              "    <tr>\n",
              "      <th>AND</th>\n",
              "      <td>13411.0</td>\n",
              "      <td>14375.0</td>\n",
              "      <td>15370.0</td>\n",
              "      <td>16412.0</td>\n",
              "      <td>17469.0</td>\n",
              "      <td>18549.0</td>\n",
              "      <td>19647.0</td>\n",
              "      <td>20758.0</td>\n",
              "      <td>21890.0</td>\n",
              "      <td>23058.0</td>\n",
              "      <td>...</td>\n",
              "      <td>83861.0</td>\n",
              "      <td>84462.0</td>\n",
              "      <td>84449.0</td>\n",
              "      <td>83751.0</td>\n",
              "      <td>82431.0</td>\n",
              "      <td>80788.0</td>\n",
              "      <td>79223.0</td>\n",
              "      <td>78014.0</td>\n",
              "      <td>77281.0</td>\n",
              "      <td>76965.0</td>\n",
              "    </tr>\n",
              "  </tbody>\n",
              "</table>\n",
              "<p>5 rows × 58 columns</p>\n",
              "</div>\n",
              "    <div class=\"colab-df-buttons\">\n",
              "\n",
              "  <div class=\"colab-df-container\">\n",
              "    <button class=\"colab-df-convert\" onclick=\"convertToInteractive('df-3bcab070-4d08-42bb-8f4d-5e7246e9e4ca')\"\n",
              "            title=\"Convert this dataframe to an interactive table.\"\n",
              "            style=\"display:none;\">\n",
              "\n",
              "  <svg xmlns=\"http://www.w3.org/2000/svg\" height=\"24px\" viewBox=\"0 -960 960 960\">\n",
              "    <path d=\"M120-120v-720h720v720H120Zm60-500h600v-160H180v160Zm220 220h160v-160H400v160Zm0 220h160v-160H400v160ZM180-400h160v-160H180v160Zm440 0h160v-160H620v160ZM180-180h160v-160H180v160Zm440 0h160v-160H620v160Z\"/>\n",
              "  </svg>\n",
              "    </button>\n",
              "\n",
              "  <style>\n",
              "    .colab-df-container {\n",
              "      display:flex;\n",
              "      gap: 12px;\n",
              "    }\n",
              "\n",
              "    .colab-df-convert {\n",
              "      background-color: #E8F0FE;\n",
              "      border: none;\n",
              "      border-radius: 50%;\n",
              "      cursor: pointer;\n",
              "      display: none;\n",
              "      fill: #1967D2;\n",
              "      height: 32px;\n",
              "      padding: 0 0 0 0;\n",
              "      width: 32px;\n",
              "    }\n",
              "\n",
              "    .colab-df-convert:hover {\n",
              "      background-color: #E2EBFA;\n",
              "      box-shadow: 0px 1px 2px rgba(60, 64, 67, 0.3), 0px 1px 3px 1px rgba(60, 64, 67, 0.15);\n",
              "      fill: #174EA6;\n",
              "    }\n",
              "\n",
              "    .colab-df-buttons div {\n",
              "      margin-bottom: 4px;\n",
              "    }\n",
              "\n",
              "    [theme=dark] .colab-df-convert {\n",
              "      background-color: #3B4455;\n",
              "      fill: #D2E3FC;\n",
              "    }\n",
              "\n",
              "    [theme=dark] .colab-df-convert:hover {\n",
              "      background-color: #434B5C;\n",
              "      box-shadow: 0px 1px 3px 1px rgba(0, 0, 0, 0.15);\n",
              "      filter: drop-shadow(0px 1px 2px rgba(0, 0, 0, 0.3));\n",
              "      fill: #FFFFFF;\n",
              "    }\n",
              "  </style>\n",
              "\n",
              "    <script>\n",
              "      const buttonEl =\n",
              "        document.querySelector('#df-3bcab070-4d08-42bb-8f4d-5e7246e9e4ca button.colab-df-convert');\n",
              "      buttonEl.style.display =\n",
              "        google.colab.kernel.accessAllowed ? 'block' : 'none';\n",
              "\n",
              "      async function convertToInteractive(key) {\n",
              "        const element = document.querySelector('#df-3bcab070-4d08-42bb-8f4d-5e7246e9e4ca');\n",
              "        const dataTable =\n",
              "          await google.colab.kernel.invokeFunction('convertToInteractive',\n",
              "                                                    [key], {});\n",
              "        if (!dataTable) return;\n",
              "\n",
              "        const docLinkHtml = 'Like what you see? Visit the ' +\n",
              "          '<a target=\"_blank\" href=https://colab.research.google.com/notebooks/data_table.ipynb>data table notebook</a>'\n",
              "          + ' to learn more about interactive tables.';\n",
              "        element.innerHTML = '';\n",
              "        dataTable['output_type'] = 'display_data';\n",
              "        await google.colab.output.renderOutput(dataTable, element);\n",
              "        const docLink = document.createElement('div');\n",
              "        docLink.innerHTML = docLinkHtml;\n",
              "        element.appendChild(docLink);\n",
              "      }\n",
              "    </script>\n",
              "  </div>\n",
              "\n",
              "\n",
              "<div id=\"df-b02eec4d-6feb-40c8-91d4-2e06b58d8775\">\n",
              "  <button class=\"colab-df-quickchart\" onclick=\"quickchart('df-b02eec4d-6feb-40c8-91d4-2e06b58d8775')\"\n",
              "            title=\"Suggest charts\"\n",
              "            style=\"display:none;\">\n",
              "\n",
              "<svg xmlns=\"http://www.w3.org/2000/svg\" height=\"24px\"viewBox=\"0 0 24 24\"\n",
              "     width=\"24px\">\n",
              "    <g>\n",
              "        <path d=\"M19 3H5c-1.1 0-2 .9-2 2v14c0 1.1.9 2 2 2h14c1.1 0 2-.9 2-2V5c0-1.1-.9-2-2-2zM9 17H7v-7h2v7zm4 0h-2V7h2v10zm4 0h-2v-4h2v4z\"/>\n",
              "    </g>\n",
              "</svg>\n",
              "  </button>\n",
              "\n",
              "<style>\n",
              "  .colab-df-quickchart {\n",
              "      --bg-color: #E8F0FE;\n",
              "      --fill-color: #1967D2;\n",
              "      --hover-bg-color: #E2EBFA;\n",
              "      --hover-fill-color: #174EA6;\n",
              "      --disabled-fill-color: #AAA;\n",
              "      --disabled-bg-color: #DDD;\n",
              "  }\n",
              "\n",
              "  [theme=dark] .colab-df-quickchart {\n",
              "      --bg-color: #3B4455;\n",
              "      --fill-color: #D2E3FC;\n",
              "      --hover-bg-color: #434B5C;\n",
              "      --hover-fill-color: #FFFFFF;\n",
              "      --disabled-bg-color: #3B4455;\n",
              "      --disabled-fill-color: #666;\n",
              "  }\n",
              "\n",
              "  .colab-df-quickchart {\n",
              "    background-color: var(--bg-color);\n",
              "    border: none;\n",
              "    border-radius: 50%;\n",
              "    cursor: pointer;\n",
              "    display: none;\n",
              "    fill: var(--fill-color);\n",
              "    height: 32px;\n",
              "    padding: 0;\n",
              "    width: 32px;\n",
              "  }\n",
              "\n",
              "  .colab-df-quickchart:hover {\n",
              "    background-color: var(--hover-bg-color);\n",
              "    box-shadow: 0 1px 2px rgba(60, 64, 67, 0.3), 0 1px 3px 1px rgba(60, 64, 67, 0.15);\n",
              "    fill: var(--button-hover-fill-color);\n",
              "  }\n",
              "\n",
              "  .colab-df-quickchart-complete:disabled,\n",
              "  .colab-df-quickchart-complete:disabled:hover {\n",
              "    background-color: var(--disabled-bg-color);\n",
              "    fill: var(--disabled-fill-color);\n",
              "    box-shadow: none;\n",
              "  }\n",
              "\n",
              "  .colab-df-spinner {\n",
              "    border: 2px solid var(--fill-color);\n",
              "    border-color: transparent;\n",
              "    border-bottom-color: var(--fill-color);\n",
              "    animation:\n",
              "      spin 1s steps(1) infinite;\n",
              "  }\n",
              "\n",
              "  @keyframes spin {\n",
              "    0% {\n",
              "      border-color: transparent;\n",
              "      border-bottom-color: var(--fill-color);\n",
              "      border-left-color: var(--fill-color);\n",
              "    }\n",
              "    20% {\n",
              "      border-color: transparent;\n",
              "      border-left-color: var(--fill-color);\n",
              "      border-top-color: var(--fill-color);\n",
              "    }\n",
              "    30% {\n",
              "      border-color: transparent;\n",
              "      border-left-color: var(--fill-color);\n",
              "      border-top-color: var(--fill-color);\n",
              "      border-right-color: var(--fill-color);\n",
              "    }\n",
              "    40% {\n",
              "      border-color: transparent;\n",
              "      border-right-color: var(--fill-color);\n",
              "      border-top-color: var(--fill-color);\n",
              "    }\n",
              "    60% {\n",
              "      border-color: transparent;\n",
              "      border-right-color: var(--fill-color);\n",
              "    }\n",
              "    80% {\n",
              "      border-color: transparent;\n",
              "      border-right-color: var(--fill-color);\n",
              "      border-bottom-color: var(--fill-color);\n",
              "    }\n",
              "    90% {\n",
              "      border-color: transparent;\n",
              "      border-bottom-color: var(--fill-color);\n",
              "    }\n",
              "  }\n",
              "</style>\n",
              "\n",
              "  <script>\n",
              "    async function quickchart(key) {\n",
              "      const quickchartButtonEl =\n",
              "        document.querySelector('#' + key + ' button');\n",
              "      quickchartButtonEl.disabled = true;  // To prevent multiple clicks.\n",
              "      quickchartButtonEl.classList.add('colab-df-spinner');\n",
              "      try {\n",
              "        const charts = await google.colab.kernel.invokeFunction(\n",
              "            'suggestCharts', [key], {});\n",
              "      } catch (error) {\n",
              "        console.error('Error during call to suggestCharts:', error);\n",
              "      }\n",
              "      quickchartButtonEl.classList.remove('colab-df-spinner');\n",
              "      quickchartButtonEl.classList.add('colab-df-quickchart-complete');\n",
              "    }\n",
              "    (() => {\n",
              "      let quickchartButtonEl =\n",
              "        document.querySelector('#df-b02eec4d-6feb-40c8-91d4-2e06b58d8775 button');\n",
              "      quickchartButtonEl.style.display =\n",
              "        google.colab.kernel.accessAllowed ? 'block' : 'none';\n",
              "    })();\n",
              "  </script>\n",
              "</div>\n",
              "\n",
              "    </div>\n",
              "  </div>\n"
            ],
            "application/vnd.google.colaboratory.intrinsic+json": {
              "type": "dataframe",
              "variable_name": "population_df"
            }
          },
          "metadata": {},
          "execution_count": 2
        }
      ],
      "source": [
        "population_df = pd.read_csv('https://raw.githubusercontent.com/Explore-AI/Public-Data/master/AnalyseProject/world_population.csv', index_col='Country Code')\n",
        "population_df.head()"
      ]
    },
    {
      "cell_type": "markdown",
      "id": "de45a481",
      "metadata": {
        "id": "de45a481"
      },
      "source": [
        "## Analysis"
      ]
    },
    {
      "cell_type": "markdown",
      "id": "5a0b7683",
      "metadata": {
        "tags": [],
        "id": "5a0b7683"
      },
      "source": [
        "### Challenge 1: Population growth\n",
        "\n",
        "The world population data spans from 1960 to 2017. We'd like to build a predictive model that can give us the best guess at what the population growth rate in a given year might be. We will calculate the population growth rate as follows:-\n",
        "\n",
        "$$\n",
        "Growth\\_rate = \\frac{current\\_year\\_population - previous\\_year\\_population}{previous\\_year\\_population}\n",
        "$$\n",
        "\n",
        "As such, we can only calculate the growth rate for the year 1961 onwards.\n",
        "\n",
        "Write a function that takes the `population_df` and a `country_code` as input and computes the population growth rate for a given country starting from the year 1961. This function must return a return a 2-d numpy array that contains the year and corresponding growth rate for the country.\n",
        "\n",
        "_**Function Specifications:**_\n",
        "* Should take a `population_df` and `country_code` string as input and return a numpy `array` as output.\n",
        "* The array should only have two columns containing the year and the population growth rate, in other words, it should have a shape `(?, 2)` where `?` is the length of the data.\n",
        "* The growth rates should be rounded to 5 decimal places"
      ]
    },
    {
      "cell_type": "code",
      "execution_count": 5,
      "id": "c2ee76ec",
      "metadata": {
        "id": "c2ee76ec"
      },
      "outputs": [],
      "source": [
        "### START FUNCTION\n",
        "def get_population_growth_rate_by_country_year(df,country_code):\n",
        "    # your code here\n",
        "    # Filter the dataframe for a specified country\n",
        "    country_data = df.loc[country_code]\n",
        "    # Population for the country\n",
        "    population = country_data.values\n",
        "    # Population growth for the country\n",
        "    growth_rate = [(population[i] - population[i-1]) / population[i-1] for i in range(1, len(population))]\n",
        "    # Round growth_rate to 5 dp\n",
        "    growth_rate_rounded = np.round(growth_rate, 5)\n",
        "\n",
        "    years = country_data.index[1:].astype(float) # Exclude the first year\n",
        "    # Numpy array that has the years and corresponding growth rate\n",
        "    growth_rate = np.column_stack((years, growth_rate_rounded))\n",
        "\n",
        "    return growth_rate\n",
        "\n",
        "### END FUNCTION"
      ]
    },
    {
      "cell_type": "markdown",
      "id": "de3132bb",
      "metadata": {
        "id": "de3132bb"
      },
      "source": [
        "Input:"
      ]
    },
    {
      "cell_type": "code",
      "execution_count": 6,
      "id": "2cc2bcc3",
      "metadata": {
        "colab": {
          "base_uri": "https://localhost:8080/"
        },
        "id": "2cc2bcc3",
        "outputId": "2218f1db-72c1-4ad4-9e91-a9a6c41d7fd1"
      },
      "outputs": [
        {
          "output_type": "execute_result",
          "data": {
            "text/plain": [
              "array([[ 1.961e+03,  2.263e-02],\n",
              "       [ 1.962e+03,  1.420e-02],\n",
              "       [ 1.963e+03,  8.360e-03],\n",
              "       [ 1.964e+03,  5.940e-03],\n",
              "       [ 1.965e+03,  5.750e-03],\n",
              "       [ 1.966e+03,  6.190e-03],\n",
              "       [ 1.967e+03,  5.890e-03],\n",
              "       [ 1.968e+03,  5.700e-03],\n",
              "       [ 1.969e+03,  5.820e-03],\n",
              "       [ 1.970e+03,  5.740e-03],\n",
              "       [ 1.971e+03,  6.380e-03],\n",
              "       [ 1.972e+03,  6.730e-03],\n",
              "       [ 1.973e+03,  6.730e-03],\n",
              "       [ 1.974e+03,  4.730e-03],\n",
              "       [ 1.975e+03,  2.130e-03],\n",
              "       [ 1.976e+03, -1.170e-03],\n",
              "       [ 1.977e+03, -3.630e-03],\n",
              "       [ 1.978e+03, -4.360e-03],\n",
              "       [ 1.979e+03, -2.050e-03],\n",
              "       [ 1.980e+03,  1.930e-03],\n",
              "       [ 1.981e+03,  7.840e-03],\n",
              "       [ 1.982e+03,  1.285e-02],\n",
              "       [ 1.983e+03,  1.395e-02],\n",
              "       [ 1.984e+03,  1.021e-02],\n",
              "       [ 1.985e+03,  3.020e-03],\n",
              "       [ 1.986e+03, -6.060e-03],\n",
              "       [ 1.987e+03, -1.295e-02],\n",
              "       [ 1.988e+03, -1.219e-02],\n",
              "       [ 1.989e+03, -7.700e-04],\n",
              "       [ 1.990e+03,  1.830e-02],\n",
              "       [ 1.991e+03,  3.979e-02],\n",
              "       [ 1.992e+03,  5.591e-02],\n",
              "       [ 1.993e+03,  6.256e-02],\n",
              "       [ 1.994e+03,  5.787e-02],\n",
              "       [ 1.995e+03,  4.725e-02],\n",
              "       [ 1.996e+03,  3.580e-02],\n",
              "       [ 1.997e+03,  2.706e-02],\n",
              "       [ 1.998e+03,  2.137e-02],\n",
              "       [ 1.999e+03,  1.980e-02],\n",
              "       [ 2.000e+03,  2.076e-02],\n",
              "       [ 2.001e+03,  2.251e-02],\n",
              "       [ 2.002e+03,  2.254e-02],\n",
              "       [ 2.003e+03,  2.132e-02],\n",
              "       [ 2.004e+03,  1.773e-02],\n",
              "       [ 2.005e+03,  1.311e-02],\n",
              "       [ 2.006e+03,  8.010e-03],\n",
              "       [ 2.007e+03,  3.850e-03],\n",
              "       [ 2.008e+03,  1.310e-03],\n",
              "       [ 2.009e+03,  9.900e-04],\n",
              "       [ 2.010e+03,  2.130e-03],\n",
              "       [ 2.011e+03,  3.780e-03],\n",
              "       [ 2.012e+03,  5.130e-03],\n",
              "       [ 2.013e+03,  5.950e-03],\n",
              "       [ 2.014e+03,  5.890e-03],\n",
              "       [ 2.015e+03,  5.260e-03],\n",
              "       [ 2.016e+03,  4.610e-03],\n",
              "       [ 2.017e+03,  4.220e-03]])"
            ]
          },
          "metadata": {},
          "execution_count": 6
        }
      ],
      "source": [
        "get_population_growth_rate_by_country_year(population_df,'ABW')"
      ]
    },
    {
      "cell_type": "markdown",
      "id": "c584dbd2",
      "metadata": {
        "id": "c584dbd2"
      },
      "source": [
        "Expected output:"
      ]
    },
    {
      "cell_type": "markdown",
      "id": "71369555",
      "metadata": {
        "id": "71369555"
      },
      "source": [
        "```\n",
        "array([[ 1.961e+03,  2.263e-02],\n",
        "       [ 1.962e+03,  1.420e-02],\n",
        "       [ 1.963e+03,  8.360e-03],\n",
        "       [ 1.964e+03,  5.940e-03],\n",
        "            ...       ....\n",
        "       [ 2.015e+03,  5.260e-03],\n",
        "       [ 2.016e+03,  4.610e-03],\n",
        "       [ 2.017e+03,  4.220e-03]])\n",
        "```"
      ]
    },
    {
      "cell_type": "markdown",
      "id": "dc9b7dc6",
      "metadata": {
        "id": "dc9b7dc6"
      },
      "source": [
        "### Challenge 2: Even-odd train-test split\n",
        "\n",
        "Now that we have our data, we need to divide it into two sets: the variables we will train on and the variables we will predict on. In this scenario, we're separating the variables so that the **training set contains growth rates for even years and the test set contains growth rates for odd years**. We also need to divide our data into the predictive features (`X`) and the response features (`y`).\n",
        "\n",
        "Write a function that will take a 2-D numpy array as input and return four variables in the form of `(X_train, y_train), (X_test, y_test)`, where `(X_train, y_train)` are the features and response variables of the training set, and `(X_test, y_test)` are the features and response variables of the testing set. The training and testing data consist of even and odd years, respectively. The function should return two tuples of the form `(X_train, y_train), (X_test, y_test)`.\n",
        "\n",
        "_**Function Specifications:**_\n",
        "* Should take a 2-d numpy `array` as input.\n",
        "* Should return two `tuples` of the form `(X_train, y_train), (X_test, y_test)`.\n",
        "* `(X_train, y_train)` should consist of data from even years and `(X_test, y_test)` should consist of data from odd years."
      ]
    },
    {
      "cell_type": "code",
      "execution_count": 7,
      "id": "ae48fab0",
      "metadata": {
        "id": "ae48fab0"
      },
      "outputs": [],
      "source": [
        "### START FUNCTION\n",
        "def feature_response_split(arr):\n",
        "    # your code here\n",
        "    # Get the years from the array\n",
        "    years = arr[:,0]\n",
        "\n",
        "    # seperate into even and odd years\n",
        "    even_years = years % 2 == 0\n",
        "    odd_years = years % 2 != 0\n",
        "\n",
        "    # Split based on the even and odd years\n",
        "\n",
        "    X_train = arr[even_years, 0]\n",
        "    y_train = arr[even_years, 1]\n",
        "\n",
        "    X_test = arr[odd_years, 0]\n",
        "    y_test = arr[odd_years, 1]\n",
        "\n",
        "    return (X_train, y_train), (X_test, y_test)\n",
        "\n",
        "### END FUNCTION"
      ]
    },
    {
      "cell_type": "markdown",
      "id": "c44015d7",
      "metadata": {
        "id": "c44015d7"
      },
      "source": [
        "Input:"
      ]
    },
    {
      "cell_type": "code",
      "execution_count": 8,
      "id": "edbfa32b",
      "metadata": {
        "id": "edbfa32b"
      },
      "outputs": [],
      "source": [
        "data = get_population_growth_rate_by_country_year(population_df,'ABW');\n",
        "(X_train, y_train), (X_test, y_test) = feature_response_split(data)"
      ]
    },
    {
      "cell_type": "code",
      "source": [
        "X_train"
      ],
      "metadata": {
        "colab": {
          "base_uri": "https://localhost:8080/"
        },
        "id": "oPMMNSUjP5gT",
        "outputId": "5073ca04-5963-4f02-8faa-fbe0a07a3ca9"
      },
      "id": "oPMMNSUjP5gT",
      "execution_count": 13,
      "outputs": [
        {
          "output_type": "execute_result",
          "data": {
            "text/plain": [
              "array([1962., 1964., 1966., 1968., 1970., 1972., 1974., 1976., 1978.,\n",
              "       1980., 1982., 1984., 1986., 1988., 1990., 1992., 1994., 1996.,\n",
              "       1998., 2000., 2002., 2004., 2006., 2008., 2010., 2012., 2014.,\n",
              "       2016.])"
            ]
          },
          "metadata": {},
          "execution_count": 13
        }
      ]
    },
    {
      "cell_type": "code",
      "source": [
        "len(y_test)"
      ],
      "metadata": {
        "colab": {
          "base_uri": "https://localhost:8080/"
        },
        "id": "NfGuOnbKVsvY",
        "outputId": "f51534f6-953e-44a5-da40-a086c0093d63"
      },
      "id": "NfGuOnbKVsvY",
      "execution_count": 23,
      "outputs": [
        {
          "output_type": "execute_result",
          "data": {
            "text/plain": [
              "29"
            ]
          },
          "metadata": {},
          "execution_count": 23
        }
      ]
    },
    {
      "cell_type": "markdown",
      "id": "c9751dcb",
      "metadata": {
        "id": "c9751dcb"
      },
      "source": [
        "Expected output:"
      ]
    },
    {
      "cell_type": "markdown",
      "id": "e2f1efd5",
      "metadata": {
        "id": "e2f1efd5"
      },
      "source": [
        "```\n",
        "y_train ==  array([ 0.01419604,  0.00594409,  0.00618898,  0.00570149,  0.00573851,\n",
        "        0.00672948,  0.00473084, -0.00117052, -0.00435676,  0.00193398,\n",
        "        0.01284528,  0.01020884, -0.00606099, -0.01219414,  0.01830187,\n",
        "        0.05590975,  0.05787267,  0.03580499,  0.02136897,  0.02076288,\n",
        "        0.02254085,  0.01772885,  0.00800752,  0.00131397,  0.00212906,\n",
        "        0.00513459,  0.00589222,  0.00460988])\n",
        "```\n",
        "\n",
        "```\n",
        "X_test == array([1961., 1963., 1965., 1967., 1969., 1971., 1973., 1975., 1977.,\n",
        "       1979., 1981., 1983., 1985., 1987., 1989., 1991., 1993., 1995.,\n",
        "       1997., 1999., 2001., 2003., 2005., 2007., 2009., 2011., 2013.,\n",
        "       2015., 2017.])\n",
        "```\n",
        "\n",
        "```\n",
        "y_test == array([ 0.02263378,  0.00835927,  0.00575116,  0.00589102,  0.00582331,\n",
        "        0.00638301,  0.00673463,  0.00213125, -0.0036312 , -0.00204649,\n",
        "        0.00783746,  0.01395387,  0.00302374, -0.01294617, -0.0007695 ,\n",
        "        0.03979147,  0.0625632 ,  0.04724902,  0.02705529,  0.01979903,\n",
        "        0.02250889,  0.02131758,  0.01310552,  0.00384798,  0.00098665,\n",
        "        0.00377696,  0.00594675,  0.00526037,  0.00421667])      \n",
        " ```"
      ]
    },
    {
      "cell_type": "markdown",
      "id": "aa09265c",
      "metadata": {
        "id": "aa09265c"
      },
      "source": [
        "### Question 3\n",
        "\n",
        "Now that we have formatted our data, we can fit a model using sklearn's `DecisionTreeRegressor` class. We'll write a function that will take as input the features and response variables that we created in the last question, and return a trained model.\n",
        "\n",
        "_**Function Specifications:**_\n",
        "* Should take two numpy `arrays` as input in the form `(X_train, y_train)` as well as a `MaxDepth` int corresponding to the max_depth hyperparameter in decision trees.\n",
        "* Should return an sklearn `DecisionTreeRegressor` model.\n",
        "* The returned model should be fitted to the data.\n",
        "\n",
        "_**Hint:**_\n",
        "You may need to reshape the data within the function. You can use `.reshape(-1, 1)` to do this."
      ]
    },
    {
      "cell_type": "code",
      "execution_count": 16,
      "id": "22984670",
      "metadata": {
        "id": "22984670"
      },
      "outputs": [],
      "source": [
        "### START FUNCTION\n",
        "def train_model(X_train, y_train, MaxDepth):\n",
        "    # your code here\n",
        "    # Transform X_train to a matrix\n",
        "    X_train = X_train.reshape(-1, 1)\n",
        "\n",
        "    # instantiate the DecisionTreeRegressor\n",
        "    model = DecisionTreeRegressor(max_depth = MaxDepth, random_state= 42)\n",
        "\n",
        "    # Fit training dataset to the model\n",
        "    model.fit(X_train, y_train)\n",
        "\n",
        "    return model\n",
        "\n",
        "### END FUNCTION"
      ]
    },
    {
      "cell_type": "markdown",
      "id": "90ab9f5e",
      "metadata": {
        "id": "90ab9f5e"
      },
      "source": [
        "Input:"
      ]
    },
    {
      "cell_type": "code",
      "execution_count": 17,
      "id": "52c5efb1",
      "metadata": {
        "colab": {
          "base_uri": "https://localhost:8080/"
        },
        "id": "52c5efb1",
        "outputId": "62b56f5a-610a-41f0-9208-26f6edce578b"
      },
      "outputs": [
        {
          "output_type": "execute_result",
          "data": {
            "text/plain": [
              "array([0.00451333])"
            ]
          },
          "metadata": {},
          "execution_count": 17
        }
      ],
      "source": [
        "data = get_population_growth_rate_by_country_year(population_df,'ABW')\n",
        "(X_train, y_train), _ = feature_response_split(data)\n",
        "\n",
        "train_model(X_train, y_train,3).predict([[2017]])"
      ]
    },
    {
      "cell_type": "markdown",
      "id": "59712459",
      "metadata": {
        "id": "59712459"
      },
      "source": [
        "Expected output:"
      ]
    },
    {
      "cell_type": "markdown",
      "id": "3e8875e2",
      "metadata": {
        "id": "3e8875e2"
      },
      "source": [
        "```\n",
        "array([0.00451333])\n",
        "```"
      ]
    },
    {
      "cell_type": "markdown",
      "id": "14a50f5e",
      "metadata": {
        "id": "14a50f5e"
      },
      "source": [
        "### Challenge 4\n",
        "\n",
        "Now we would like to test our model on the testing data that we produced in Exercise 2. This test will give the Root Mean Squared Logarithmic Error (RMSLE), which is determined by:\n",
        "\n",
        "$$\n",
        "RMSLE = \\sqrt{\\frac{1}{N}\\sum_{i=1}^N [log(1+p_i) - log(1+y_i)]^2}\n",
        "$$\n",
        "\n",
        "* *$p_i$ refers to the $i^{\\rm th}$ prediction made from `X_test`\n",
        "* $y_i$ refers to the $i^{\\rm th}$ value in `y_test`\n",
        "* $N$ is the length of `y_test`\n",
        "\n",
        "_**Function Specifications:**_\n",
        "* Should take a trained model and two `arrays` as input. This will be the `X_test` and `y_test` variables from Question 2.\n",
        "* Should calculate and return the Root Mean Squared Logarithmic Error (RMSLE) between the predicted values from `X_test` and the actual values in `y_test`.\n",
        "* The output should be a `float` rounded to 3 decimal places.\n",
        "\n"
      ]
    },
    {
      "cell_type": "code",
      "execution_count": 30,
      "id": "3b0ea2f8",
      "metadata": {
        "id": "3b0ea2f8"
      },
      "outputs": [],
      "source": [
        "### START FUNCTION\n",
        "from sklearn.metrics import mean_squared_log_error\n",
        "def test_model(model, y_test, X_test):\n",
        "    # your code here\n",
        "    # Reshape X_test\n",
        "    if len(X_test.shape) == 1:\n",
        "      X_test = X_test.reshape(-1, 1)\n",
        "\n",
        "    # Predict the values for X_test using the model\n",
        "    y_predict = model.predict(X_test)\n",
        "\n",
        "    # Add a small positive values in case of negative values\n",
        "\n",
        "    epsilon = 1e-9\n",
        "\n",
        "    y_predict = np.maximum(y_predict, epsilon)\n",
        "    y_test = np.maximum(y_test, epsilon)\n",
        "    # calculate the mean squared log error\n",
        "    msle = mean_squared_log_error(y_test, y_predict)\n",
        "\n",
        "    # Calculate the RMSLE\n",
        "    rmsle = np.sqrt(msle)\n",
        "\n",
        "    return round(rmsle, 3)\n",
        "\n",
        "### END FUNCTION"
      ]
    },
    {
      "cell_type": "markdown",
      "id": "e9e50777",
      "metadata": {
        "id": "e9e50777"
      },
      "source": [
        "Input:"
      ]
    },
    {
      "cell_type": "code",
      "execution_count": 31,
      "id": "2c1d59c3",
      "metadata": {
        "colab": {
          "base_uri": "https://localhost:8080/"
        },
        "id": "2c1d59c3",
        "outputId": "7a467e4f-ef25-4ce6-e11b-5fbf3bb20481"
      },
      "outputs": [
        {
          "output_type": "execute_result",
          "data": {
            "text/plain": [
              "0.007"
            ]
          },
          "metadata": {},
          "execution_count": 31
        }
      ],
      "source": [
        "data = get_population_growth_rate_by_country_year(population_df,'ABW')\n",
        "(X_train, y_train), (X_test, y_test) = feature_response_split(data)\n",
        "lm = train_model(X_train, y_train,3)\n",
        "test_model(lm, y_test, X_test)"
      ]
    },
    {
      "cell_type": "markdown",
      "id": "2a986cb0",
      "metadata": {
        "id": "2a986cb0"
      },
      "source": [
        "Expected output:"
      ]
    },
    {
      "cell_type": "markdown",
      "id": "9b154f38",
      "metadata": {
        "id": "9b154f38"
      },
      "source": [
        "```\n",
        "0.008\n",
        "```"
      ]
    },
    {
      "cell_type": "markdown",
      "id": "62316258",
      "metadata": {
        "id": "62316258"
      },
      "source": [
        "What does this value say about our model?\n",
        "- ✍️ Your notes here"
      ]
    },
    {
      "cell_type": "markdown",
      "id": "26fd094b-0fee-46f1-a4b8-73766813c42b",
      "metadata": {
        "tags": [],
        "id": "26fd094b-0fee-46f1-a4b8-73766813c42b"
      },
      "source": [
        "#  \n",
        "\n",
        "<div align=\"center\" style=\" font-size: 80%; text-align: center; margin: 0 auto\">\n",
        "<img src=\"https://raw.githubusercontent.com/Explore-AI/Pictures/master/ExploreAI_logos/EAI_Blue_Dark.png\"  style=\"width:200px\";/>\n",
        "</div>"
      ]
    }
  ],
  "metadata": {
    "kernelspec": {
      "display_name": "Python 3 (ipykernel)",
      "language": "python",
      "name": "python3"
    },
    "language_info": {
      "codemirror_mode": {
        "name": "ipython",
        "version": 3
      },
      "file_extension": ".py",
      "mimetype": "text/x-python",
      "name": "python",
      "nbconvert_exporter": "python",
      "pygments_lexer": "ipython3",
      "version": "3.11.5"
    },
    "colab": {
      "provenance": [],
      "include_colab_link": true
    }
  },
  "nbformat": 4,
  "nbformat_minor": 5
}